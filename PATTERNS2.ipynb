{
 "cells": [
  {
   "cell_type": "code",
   "execution_count": null,
   "id": "01867f24",
   "metadata": {},
   "outputs": [],
   "source": [
    "    *\n",
    "   ***\n",
    "  *****\n",
    " *******\n",
    "*********"
   ]
  },
  {
   "cell_type": "code",
   "execution_count": 42,
   "id": "e8b8bef9",
   "metadata": {},
   "outputs": [
    {
     "name": "stdout",
     "output_type": "stream",
     "text": [
      "     *\n",
      "    ***\n",
      "   *****\n",
      "  *******\n",
      " *********\n",
      "\n"
     ]
    }
   ],
   "source": [
    "sp=4\n",
    "s=0\n",
    "for i in range(1,10,2):#here i will increase with a step of 2.\n",
    "    print(' '*sp,'*'*i)\n",
    "    sp=sp-1\n",
    "print()"
   ]
  },
  {
   "cell_type": "code",
   "execution_count": null,
   "id": "435d329b",
   "metadata": {},
   "outputs": [],
   "source": [
    "    *\n",
    "   * *\n",
    "  *   *\n",
    " *     *\n",
    "*********"
   ]
  },
  {
   "cell_type": "code",
   "execution_count": 43,
   "id": "935b3e29",
   "metadata": {},
   "outputs": [
    {
     "name": "stdout",
     "output_type": "stream",
     "text": [
      "     *\n",
      "    * *\n",
      "   *   *\n",
      "  *     *\n",
      " *********\n",
      "\n"
     ]
    }
   ],
   "source": [
    "sp=4\n",
    "s=0\n",
    "for i in range(1,10,2):\n",
    "    if i==3:\n",
    "        print(' '*sp,'*'+' '+'*')\n",
    "        sp=sp-1\n",
    "    elif i==5:\n",
    "        print(' '*sp,'*'+' '*3+'*')\n",
    "        sp=sp-1\n",
    "    elif i==7:\n",
    "        print(' '*sp,'*'+' '*5+'*')\n",
    "        sp=sp-1\n",
    "    else:\n",
    "        print(' '*sp,'*'*i)\n",
    "        sp=sp-1\n",
    "print()\n",
    "        "
   ]
  },
  {
   "cell_type": "code",
   "execution_count": null,
   "id": "2da896f5",
   "metadata": {},
   "outputs": [],
   "source": [
    "*********\n",
    " *******\n",
    "  *****\n",
    "   ***\n",
    "    *"
   ]
  },
  {
   "cell_type": "code",
   "execution_count": 48,
   "id": "c28c72d0",
   "metadata": {},
   "outputs": [
    {
     "name": "stdout",
     "output_type": "stream",
     "text": [
      " *********\n",
      "  *******\n",
      "   *****\n",
      "    ***\n",
      "     *\n",
      "\n"
     ]
    }
   ],
   "source": [
    "r=9\n",
    "sp=0\n",
    "\n",
    "for i in range(9,-1,-2):\n",
    "    print(' '*sp,'*'*i)\n",
    "    sp=sp+1\n",
    "print()"
   ]
  },
  {
   "cell_type": "code",
   "execution_count": null,
   "id": "1310fbc4",
   "metadata": {},
   "outputs": [],
   "source": [
    "    *\n",
    "   ***\n",
    "  *****\n",
    " *******\n",
    "*********\n",
    " *******\n",
    "  *****\n",
    "   ***\n",
    "    *\n",
    "    "
   ]
  },
  {
   "cell_type": "code",
   "execution_count": 68,
   "id": "4f55b59a",
   "metadata": {},
   "outputs": [
    {
     "name": "stdout",
     "output_type": "stream",
     "text": [
      "     *\n",
      "    ***\n",
      "   *****\n",
      "  *******\n",
      " *********\n",
      "  *******\n",
      "   *****\n",
      "    ***\n",
      "     *\n"
     ]
    }
   ],
   "source": [
    "sp=4\n",
    "sp1=1\n",
    "for i in range(1,11,+2):\n",
    "    print(' '*sp,'*'*i)\n",
    "    sp=sp-1\n",
    "for j in range(7,-1,-2):\n",
    "    print(' '*sp1,'*'*j)\n",
    "    sp1=sp1+1\n",
    "    \n",
    "\n"
   ]
  },
  {
   "cell_type": "code",
   "execution_count": null,
   "id": "fd9626c1",
   "metadata": {},
   "outputs": [],
   "source": [
    "    *\n",
    "   * *\n",
    "  *   *\n",
    " *     *\n",
    "*       *\n",
    " *     *\n",
    "  *   *\n",
    "   * *\n",
    "    *"
   ]
  },
  {
   "cell_type": "code",
   "execution_count": 95,
   "id": "63e87dfd",
   "metadata": {},
   "outputs": [
    {
     "name": "stdout",
     "output_type": "stream",
     "text": [
      "     *\n",
      "    * *\n",
      "   *   *\n",
      "  *     *\n",
      " *       *\n",
      "  *     *\n",
      "   *   *\n",
      "    * *\n",
      "     *\n"
     ]
    }
   ],
   "source": [
    "sp=4\n",
    "sp1=1\n",
    "for i in range(1,11,+2):\n",
    "    if i==3:\n",
    "        print(' '*sp,'*'+' '+'*')\n",
    "        sp=sp-1\n",
    "    elif i==5:\n",
    "        print(' '*sp,'*'+' '*3+'*')\n",
    "        sp=sp-1\n",
    "    elif i==7:\n",
    "        print(' '*sp,'*'+' '*5+'*')\n",
    "        sp=sp-1\n",
    "    elif i==1:\n",
    "        print(' '*sp,'*'*i)\n",
    "        sp=sp-1\n",
    "    else:\n",
    "        print(' '*sp,'*'+' '*7+'*')\n",
    "        sp=sp-1\n",
    "for j in range(7,-1,-2):\n",
    "    if j==3:\n",
    "        print(' '*sp1,'*'+' '+'*')\n",
    "        sp1=sp1+1\n",
    "    elif j==5:\n",
    "        print(' '*sp1,'*'+' '*3+'*')\n",
    "        sp1=sp1+1\n",
    "    elif j==7:\n",
    "        print(' '*sp1,'*'+' '*5+'*')\n",
    "        sp1=sp1+1\n",
    "    elif j==1:\n",
    "        print(' '*sp1,'*'*j)\n",
    "        sp=sp+1\n",
    "    else:\n",
    "        print(' '*sp1,'*'+' '*7+'*')\n",
    "        sp1=sp1+1\n",
    "\n",
    "        "
   ]
  },
  {
   "cell_type": "code",
   "execution_count": null,
   "id": "9c4ea178",
   "metadata": {},
   "outputs": [],
   "source": []
  },
  {
   "cell_type": "code",
   "execution_count": null,
   "id": "81865077",
   "metadata": {},
   "outputs": [],
   "source": []
  },
  {
   "cell_type": "code",
   "execution_count": null,
   "id": "4d47ee34",
   "metadata": {},
   "outputs": [],
   "source": []
  },
  {
   "cell_type": "code",
   "execution_count": null,
   "id": "88517107",
   "metadata": {},
   "outputs": [],
   "source": []
  },
  {
   "cell_type": "code",
   "execution_count": null,
   "id": "27f64c4d",
   "metadata": {},
   "outputs": [],
   "source": []
  }
 ],
 "metadata": {
  "kernelspec": {
   "display_name": "Python 3 (ipykernel)",
   "language": "python",
   "name": "python3"
  },
  "language_info": {
   "codemirror_mode": {
    "name": "ipython",
    "version": 3
   },
   "file_extension": ".py",
   "mimetype": "text/x-python",
   "name": "python",
   "nbconvert_exporter": "python",
   "pygments_lexer": "ipython3",
   "version": "3.11.4"
  }
 },
 "nbformat": 4,
 "nbformat_minor": 5
}
