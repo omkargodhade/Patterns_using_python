{
 "cells": [
  {
   "cell_type": "markdown",
   "id": "e78803d8",
   "metadata": {},
   "source": [
    "Q1)Accept 10 integers from user  and print their average value on the screen "
   ]
  },
  {
   "cell_type": "code",
   "execution_count": 1,
   "id": "3ec3a948",
   "metadata": {},
   "outputs": [
    {
     "name": "stdout",
     "output_type": "stream",
     "text": [
      "enter the number1\n",
      "enter the number2\n",
      "enter the number3\n",
      "enter the number4\n",
      "enter the number5\n",
      "enter the number6\n",
      "enter the number7\n",
      "enter the number8\n",
      "enter the number9\n",
      "enter the number10\n",
      "55\n",
      "5.5\n"
     ]
    }
   ],
   "source": [
    "total=0\n",
    "for i in range(10):\n",
    "    \n",
    "    num=int(input('enter the number'))\n",
    "    total+=num\n",
    "print(total)\n",
    "avg=total/10\n",
    "print(avg)\n",
    "    \n",
    "    "
   ]
  },
  {
   "cell_type": "markdown",
   "id": "69c6da57",
   "metadata": {},
   "source": [
    "Q2).Print the following patterns using loop : \n"
   ]
  },
  {
   "cell_type": "code",
   "execution_count": null,
   "id": "13d9adf1",
   "metadata": {},
   "outputs": [],
   "source": [
    "a.  * \n",
    "    ** \n",
    "    ***\n",
    "    ****\n"
   ]
  },
  {
   "cell_type": "code",
   "execution_count": 8,
   "id": "72f1f120",
   "metadata": {},
   "outputs": [
    {
     "name": "stdout",
     "output_type": "stream",
     "text": [
      "*\n",
      "**\n",
      "***\n",
      "****\n",
      "*****\n"
     ]
    }
   ],
   "source": [
    "\n",
    "for i in range(1,6):\n",
    "    print('*'*i)\n",
    "    "
   ]
  },
  {
   "cell_type": "code",
   "execution_count": null,
   "id": "9d3f134d",
   "metadata": {},
   "outputs": [],
   "source": [
    "b. \n",
    "    *                    \n",
    "  ***                \n",
    "***** \n",
    "  ***\n",
    "    * "
   ]
  },
  {
   "cell_type": "code",
   "execution_count": 3,
   "id": "07eafcc4",
   "metadata": {},
   "outputs": [
    {
     "name": "stdout",
     "output_type": "stream",
     "text": [
      "     *\n",
      "   ***\n",
      " *****\n",
      "   ***\n",
      "     *\n"
     ]
    }
   ],
   "source": [
    "n=0\n",
    "sp=4\n",
    "\n",
    "for i in range(1,6,n+2):\n",
    "    print(' '*sp ,'*'*i)\n",
    "    sp=sp-2\n",
    "j=0\n",
    "sp1=2\n",
    "for j in range(3,0,j-2):\n",
    "    print(' '*sp1,'*'*j)\n",
    "    sp1=sp1+2\n",
    "\n",
    "\n",
    "    \n",
    "    \n",
    "    "
   ]
  },
  {
   "cell_type": "code",
   "execution_count": null,
   "id": "19aa215d",
   "metadata": {},
   "outputs": [],
   "source": [
    "\n",
    "  c. 1010101          \n",
    "      10101  \n",
    "       101   \n",
    "        1    \n"
   ]
  },
  {
   "cell_type": "code",
   "execution_count": 6,
   "id": "b2d5a301",
   "metadata": {},
   "outputs": [
    {
     "name": "stdout",
     "output_type": "stream",
     "text": [
      "101010101\n",
      " 1010101\n",
      "  10101\n",
      "   101\n",
      "    1\n"
     ]
    }
   ],
   "source": [
    "n=0\n",
    "sp=0\n",
    "for i in range(4,-1,n-1):\n",
    "    print(' '*sp,'10'*i,'1',sep=\"\")\n",
    "    sp=sp+1"
   ]
  },
  {
   "cell_type": "code",
   "execution_count": null,
   "id": "f5b18830",
   "metadata": {},
   "outputs": [],
   "source": [
    "d.\n",
    "1  \n",
    "1 2  \n",
    "1 2 3  \n",
    "1 2 3 4  \n",
    "1 2 3 4 5 "
   ]
  },
  {
   "cell_type": "code",
   "execution_count": 10,
   "id": "30887481",
   "metadata": {},
   "outputs": [
    {
     "name": "stdout",
     "output_type": "stream",
     "text": [
      "1 \n",
      "1 2 \n",
      "1 2 3 \n",
      "1 2 3 4 \n",
      "1 2 3 4 5 \n"
     ]
    }
   ],
   "source": [
    "j=0\n",
    "nums=5\n",
    "for i in range(1,rows+1):\n",
    "    for j in range(1,i+1):\n",
    "        print(j, end=' ')\n",
    "        \n",
    "    print()\n",
    "\n",
    " "
   ]
  },
  {
   "cell_type": "code",
   "execution_count": null,
   "id": "33960b02",
   "metadata": {},
   "outputs": [],
   "source": []
  },
  {
   "cell_type": "code",
   "execution_count": null,
   "id": "832eccf5",
   "metadata": {},
   "outputs": [],
   "source": []
  },
  {
   "cell_type": "code",
   "execution_count": null,
   "id": "1fb620af",
   "metadata": {},
   "outputs": [],
   "source": []
  }
 ],
 "metadata": {
  "kernelspec": {
   "display_name": "Python 3 (ipykernel)",
   "language": "python",
   "name": "python3"
  },
  "language_info": {
   "codemirror_mode": {
    "name": "ipython",
    "version": 3
   },
   "file_extension": ".py",
   "mimetype": "text/x-python",
   "name": "python",
   "nbconvert_exporter": "python",
   "pygments_lexer": "ipython3",
   "version": "3.11.4"
  }
 },
 "nbformat": 4,
 "nbformat_minor": 5
}
